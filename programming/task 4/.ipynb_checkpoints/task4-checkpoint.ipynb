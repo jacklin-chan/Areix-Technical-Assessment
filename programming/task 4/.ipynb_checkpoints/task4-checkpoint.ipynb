{
 "cells": [
  {
   "cell_type": "code",
   "execution_count": 687,
   "metadata": {},
   "outputs": [],
   "source": [
    "# import nesscessary libraries\n",
    "import tensorflow as tf\n",
    "import functools\n",
    "import pandas as pd\n",
    "import numpy as np\n",
    "import csv"
   ]
  },
  {
   "cell_type": "code",
   "execution_count": 688,
   "metadata": {},
   "outputs": [],
   "source": [
    "# Load the data and pre-process them\n",
    "train_data = pd.read_csv(\"train.csv\")\n",
    "# print(train_data)\n",
    "# print('----------------------------')\n",
    "# test_data = csv.reader(\"test.csv\", delimiter=',')\n",
    "\n",
    "tf.keras.utils.normalize(train_data)\n",
    "train_data = train_data.dropna(axis=0)  # drop Nan values\n",
    "\n",
    "# print(train_data)"
   ]
  },
  {
   "cell_type": "code",
   "execution_count": 689,
   "metadata": {},
   "outputs": [
    {
     "name": "stdout",
     "output_type": "stream",
     "text": [
      "Features: [192.     8.4    7.3    0.55], Target: 1\n",
      "Features: [180.     8.     6.8    0.59], Target: 1\n",
      "Features: [176.    7.4   7.2   0.6], Target: 1\n",
      "Features: [86.   6.2  4.7  0.8], Target: 2\n",
      "Features: [84.    6.    4.6   0.79], Target: 2\n"
     ]
    }
   ],
   "source": [
    "train_target = train_data.pop('label')  # the desired output\n",
    "# train_data = tf.keras.utils.to_categorical(train_data)\n",
    "train_dataset = tf.data.Dataset.from_tensor_slices((train_data.values, train_target.values))\n",
    "\n",
    "\n",
    "# features: inputs(A, B, C, D), tar: output(label)\n",
    "for feature, tar in train_dataset.take(5):\n",
    "    print(\"Features: {}, Target: {}\".format(feature, tar))"
   ]
  },
  {
   "cell_type": "code",
   "execution_count": 690,
   "metadata": {},
   "outputs": [],
   "source": [
    "# shuffle and batch the dataset\n",
    "train_dataset = train_dataset.shuffle(len(train_data)).batch(4)"
   ]
  },
  {
   "cell_type": "code",
   "execution_count": 691,
   "metadata": {},
   "outputs": [],
   "source": [
    "def get_model():\n",
    "    model = tf.keras.Sequential(\n",
    "    [\n",
    "        tf.keras.layers.Dense(32, input_shape=(4,), activation='sigmoid'),\n",
    "        tf.keras.layers.Dense(16, activation='sigmoid'),\n",
    "        tf.keras.layers.Dense(8, activation='sigmoid'),\n",
    "        tf.keras.layers.Dense(4, activation='sigmoid'),\n",
    "        tf.keras.layers.Dense(1, activation='sigmoid')\n",
    "    ])\n",
    "    \n",
    "    # \"adam\": automatically tunes itself and gives good results\n",
    "    # 'categorical_crossentropy': loss function\n",
    "    opt = tf.keras.optimizers.SGD(lr=0.05, decay=1e-6, momentum=0.9, nesterov=True)\n",
    "    model.compile(loss = 'categorical_crossentropy', optimizer = opt, metrics=['accuracy'])\n",
    "#     model.compile(optimizer='adam',\n",
    "# #                   loss='binary_crossentropy',\n",
    "#                   loss='categorical_crossentropy',\n",
    "#                   metrics=['accuracy']\n",
    "#                  )\n",
    "    return model"
   ]
  },
  {
   "cell_type": "code",
   "execution_count": 692,
   "metadata": {},
   "outputs": [
    {
     "name": "stdout",
     "output_type": "stream",
     "text": [
      "Epoch 1/30\n",
      "14/14 [==============================] - 0s 2ms/step - loss: 3.0365e-07 - accuracy: 0.3396\n",
      "Epoch 2/30\n",
      "14/14 [==============================] - 0s 2ms/step - loss: 3.0365e-07 - accuracy: 0.3396\n",
      "Epoch 3/30\n",
      "14/14 [==============================] - 0s 2ms/step - loss: 3.0365e-07 - accuracy: 0.3396\n",
      "Epoch 4/30\n",
      "14/14 [==============================] - 0s 2ms/step - loss: 3.0365e-07 - accuracy: 0.3396\n",
      "Epoch 5/30\n",
      "14/14 [==============================] - 0s 2ms/step - loss: 3.0365e-07 - accuracy: 0.3396\n",
      "Epoch 6/30\n",
      "14/14 [==============================] - 0s 2ms/step - loss: 3.0365e-07 - accuracy: 0.3396\n",
      "Epoch 7/30\n",
      "14/14 [==============================] - 0s 2ms/step - loss: 3.0365e-07 - accuracy: 0.3396\n",
      "Epoch 8/30\n",
      "14/14 [==============================] - 0s 2ms/step - loss: 3.0365e-07 - accuracy: 0.3396\n",
      "Epoch 9/30\n",
      "14/14 [==============================] - 0s 2ms/step - loss: 3.0365e-07 - accuracy: 0.3396\n",
      "Epoch 10/30\n",
      "14/14 [==============================] - 0s 2ms/step - loss: 3.0365e-07 - accuracy: 0.3396\n",
      "Epoch 11/30\n",
      "14/14 [==============================] - 0s 2ms/step - loss: 3.0365e-07 - accuracy: 0.3396\n",
      "Epoch 12/30\n",
      "14/14 [==============================] - 0s 3ms/step - loss: 3.0365e-07 - accuracy: 0.3396\n",
      "Epoch 13/30\n",
      "14/14 [==============================] - 0s 3ms/step - loss: 3.0365e-07 - accuracy: 0.3396\n",
      "Epoch 14/30\n",
      "14/14 [==============================] - ETA: 0s - loss: 3.0490e-07 - accuracy: 0.34 - 0s 4ms/step - loss: 3.0365e-07 - accuracy: 0.3396\n",
      "Epoch 15/30\n",
      "14/14 [==============================] - 0s 3ms/step - loss: 3.0365e-07 - accuracy: 0.3396\n",
      "Epoch 16/30\n",
      "14/14 [==============================] - 0s 3ms/step - loss: 3.0365e-07 - accuracy: 0.3396\n",
      "Epoch 17/30\n",
      "14/14 [==============================] - 0s 2ms/step - loss: 3.0365e-07 - accuracy: 0.3396\n",
      "Epoch 18/30\n",
      "14/14 [==============================] - 0s 4ms/step - loss: 3.0365e-07 - accuracy: 0.3396\n",
      "Epoch 19/30\n",
      "14/14 [==============================] - 0s 3ms/step - loss: 3.0365e-07 - accuracy: 0.3396\n",
      "Epoch 20/30\n",
      "14/14 [==============================] - 0s 3ms/step - loss: 3.0365e-07 - accuracy: 0.3396\n",
      "Epoch 21/30\n",
      "14/14 [==============================] - 0s 2ms/step - loss: 3.0365e-07 - accuracy: 0.3396\n",
      "Epoch 22/30\n",
      "14/14 [==============================] - 0s 2ms/step - loss: 3.0365e-07 - accuracy: 0.3396\n",
      "Epoch 23/30\n",
      "14/14 [==============================] - 0s 2ms/step - loss: 3.0365e-07 - accuracy: 0.3396\n",
      "Epoch 24/30\n",
      "14/14 [==============================] - 0s 2ms/step - loss: 3.0365e-07 - accuracy: 0.3396\n",
      "Epoch 25/30\n",
      "14/14 [==============================] - 0s 3ms/step - loss: 3.0365e-07 - accuracy: 0.3396\n",
      "Epoch 26/30\n",
      "14/14 [==============================] - 0s 2ms/step - loss: 3.0365e-07 - accuracy: 0.3396\n",
      "Epoch 27/30\n",
      "14/14 [==============================] - 0s 2ms/step - loss: 3.0365e-07 - accuracy: 0.3396\n",
      "Epoch 28/30\n",
      "14/14 [==============================] - 0s 2ms/step - loss: 3.0365e-07 - accuracy: 0.3396\n",
      "Epoch 29/30\n",
      "14/14 [==============================] - 0s 2ms/step - loss: 3.0365e-07 - accuracy: 0.3396\n",
      "Epoch 30/30\n",
      "14/14 [==============================] - 0s 3ms/step - loss: 3.0365e-07 - accuracy: 0.3396\n"
     ]
    },
    {
     "data": {
      "text/plain": [
       "<tensorflow.python.keras.callbacks.History at 0x1477052b0>"
      ]
     },
     "execution_count": 692,
     "metadata": {},
     "output_type": "execute_result"
    }
   ],
   "source": [
    "model = get_model()\n",
    "model.fit(train_dataset, epochs=30)"
   ]
  }
 ],
 "metadata": {
  "kernelspec": {
   "display_name": "Python 3",
   "language": "python",
   "name": "python3"
  },
  "language_info": {
   "codemirror_mode": {
    "name": "ipython",
    "version": 3
   },
   "file_extension": ".py",
   "mimetype": "text/x-python",
   "name": "python",
   "nbconvert_exporter": "python",
   "pygments_lexer": "ipython3",
   "version": "3.7.3"
  }
 },
 "nbformat": 4,
 "nbformat_minor": 4
}
